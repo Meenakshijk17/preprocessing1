{
 "cells": [
  {
   "cell_type": "code",
   "execution_count": 1,
   "metadata": {},
   "outputs": [],
   "source": [
    "import numpy as np\n",
    "import pandas as pd\n",
    "import matplotlib.pyplot as plt\n",
    "import seaborn as sns"
   ]
  },
  {
   "cell_type": "code",
   "execution_count": 2,
   "metadata": {},
   "outputs": [
    {
     "data": {
      "text/html": [
       "<div>\n",
       "<style scoped>\n",
       "    .dataframe tbody tr th:only-of-type {\n",
       "        vertical-align: middle;\n",
       "    }\n",
       "\n",
       "    .dataframe tbody tr th {\n",
       "        vertical-align: top;\n",
       "    }\n",
       "\n",
       "    .dataframe thead th {\n",
       "        text-align: right;\n",
       "    }\n",
       "</style>\n",
       "<table border=\"1\" class=\"dataframe\">\n",
       "  <thead>\n",
       "    <tr style=\"text-align: right;\">\n",
       "      <th></th>\n",
       "      <th>Region</th>\n",
       "      <th>Age</th>\n",
       "      <th>Income</th>\n",
       "      <th>Online Shopper</th>\n",
       "    </tr>\n",
       "  </thead>\n",
       "  <tbody>\n",
       "    <tr>\n",
       "      <th>0</th>\n",
       "      <td>India</td>\n",
       "      <td>49.0</td>\n",
       "      <td>86400.0</td>\n",
       "      <td>No</td>\n",
       "    </tr>\n",
       "    <tr>\n",
       "      <th>1</th>\n",
       "      <td>Brazil</td>\n",
       "      <td>32.0</td>\n",
       "      <td>57600.0</td>\n",
       "      <td>Yes</td>\n",
       "    </tr>\n",
       "    <tr>\n",
       "      <th>2</th>\n",
       "      <td>USA</td>\n",
       "      <td>35.0</td>\n",
       "      <td>64800.0</td>\n",
       "      <td>No</td>\n",
       "    </tr>\n",
       "    <tr>\n",
       "      <th>3</th>\n",
       "      <td>Brazil</td>\n",
       "      <td>43.0</td>\n",
       "      <td>73200.0</td>\n",
       "      <td>No</td>\n",
       "    </tr>\n",
       "    <tr>\n",
       "      <th>4</th>\n",
       "      <td>USA</td>\n",
       "      <td>45.0</td>\n",
       "      <td>NaN</td>\n",
       "      <td>Yes</td>\n",
       "    </tr>\n",
       "    <tr>\n",
       "      <th>5</th>\n",
       "      <td>India</td>\n",
       "      <td>40.0</td>\n",
       "      <td>69600.0</td>\n",
       "      <td>Yes</td>\n",
       "    </tr>\n",
       "    <tr>\n",
       "      <th>6</th>\n",
       "      <td>Brazil</td>\n",
       "      <td>NaN</td>\n",
       "      <td>62400.0</td>\n",
       "      <td>No</td>\n",
       "    </tr>\n",
       "    <tr>\n",
       "      <th>7</th>\n",
       "      <td>India</td>\n",
       "      <td>53.0</td>\n",
       "      <td>94800.0</td>\n",
       "      <td>Yes</td>\n",
       "    </tr>\n",
       "    <tr>\n",
       "      <th>8</th>\n",
       "      <td>USA</td>\n",
       "      <td>55.0</td>\n",
       "      <td>99600.0</td>\n",
       "      <td>No</td>\n",
       "    </tr>\n",
       "    <tr>\n",
       "      <th>9</th>\n",
       "      <td>India</td>\n",
       "      <td>42.0</td>\n",
       "      <td>80400.0</td>\n",
       "      <td>Yes</td>\n",
       "    </tr>\n",
       "  </tbody>\n",
       "</table>\n",
       "</div>"
      ],
      "text/plain": [
       "   Region   Age   Income Online Shopper\n",
       "0   India  49.0  86400.0             No\n",
       "1  Brazil  32.0  57600.0            Yes\n",
       "2     USA  35.0  64800.0             No\n",
       "3  Brazil  43.0  73200.0             No\n",
       "4     USA  45.0      NaN            Yes\n",
       "5   India  40.0  69600.0            Yes\n",
       "6  Brazil   NaN  62400.0             No\n",
       "7   India  53.0  94800.0            Yes\n",
       "8     USA  55.0  99600.0             No\n",
       "9   India  42.0  80400.0            Yes"
      ]
     },
     "execution_count": 2,
     "metadata": {},
     "output_type": "execute_result"
    }
   ],
   "source": [
    "df = pd.read_csv(\"noisy_data.csv\")\n",
    "df.head(10)"
   ]
  },
  {
   "cell_type": "code",
   "execution_count": 3,
   "metadata": {},
   "outputs": [
    {
     "name": "stdout",
     "output_type": "stream",
     "text": [
      "<class 'pandas.core.frame.DataFrame'>\n",
      "RangeIndex: 10 entries, 0 to 9\n",
      "Data columns (total 4 columns):\n",
      " #   Column          Non-Null Count  Dtype  \n",
      "---  ------          --------------  -----  \n",
      " 0   Region          10 non-null     object \n",
      " 1   Age             9 non-null      float64\n",
      " 2   Income          9 non-null      float64\n",
      " 3   Online Shopper  10 non-null     object \n",
      "dtypes: float64(2), object(2)\n",
      "memory usage: 448.0+ bytes\n"
     ]
    }
   ],
   "source": [
    "df.info()"
   ]
  },
  {
   "cell_type": "markdown",
   "metadata": {},
   "source": [
    "# Handling Missing Values"
   ]
  },
  {
   "cell_type": "code",
   "execution_count": 4,
   "metadata": {},
   "outputs": [
    {
     "data": {
      "text/plain": [
       "Region            0\n",
       "Age               1\n",
       "Income            1\n",
       "Online Shopper    0\n",
       "dtype: int64"
      ]
     },
     "execution_count": 4,
     "metadata": {},
     "output_type": "execute_result"
    }
   ],
   "source": [
    "df.isna().sum()"
   ]
  },
  {
   "cell_type": "markdown",
   "metadata": {},
   "source": [
    "## To impute Age"
   ]
  },
  {
   "cell_type": "code",
   "execution_count": 5,
   "metadata": {},
   "outputs": [
    {
     "name": "stdout",
     "output_type": "stream",
     "text": [
      "Relation of age with Region\n",
      "        count  mean        std   min    25%   50%    75%   max\n",
      "Region                                                        \n",
      "Brazil    2.0  37.5   7.778175  32.0  34.75  37.5  40.25  43.0\n",
      "India     4.0  46.0   6.055301  40.0  41.50  45.5  50.00  53.0\n",
      "USA       3.0  45.0  10.000000  35.0  40.00  45.0  50.00  55.0\n"
     ]
    },
    {
     "data": {
      "image/png": "[encoded data removed]",
      "text/plain": [
       "<Figure size 432x288 with 1 Axes>"
      ]
     },
     "metadata": {
      "needs_background": "light"
     },
     "output_type": "display_data"
    },
    {
     "name": "stdout",
     "output_type": "stream",
     "text": [
      "\n",
      "\n",
      "\n",
      "Relation of age with Online Shopper\n",
      "                count  mean       std   min   25%   50%   75%   max\n",
      "Online Shopper                                                     \n",
      "No                4.0  45.5  8.544004  35.0  41.0  46.0  50.5  55.0\n",
      "Yes               5.0  42.4  7.635444  32.0  40.0  42.0  45.0  53.0\n"
     ]
    },
    {
     "data": {
      "image/png": "[encoded data removed]",
      "text/plain": [
       "<Figure size 432x288 with 1 Axes>"
      ]
     },
     "metadata": {
      "needs_background": "light"
     },
     "output_type": "display_data"
    },
    {
     "name": "stdout",
     "output_type": "stream",
     "text": [
      "\n",
      "\n",
      "\n"
     ]
    }
   ],
   "source": [
    "# checking for any relation of Age with other features (except Income)\n",
    "for col in ['Region', 'Online Shopper']:\n",
    "  print(f\"Relation of age with {col}\")\n",
    "  print(df.groupby(col).Age.describe())\n",
    "  plt.scatter(df.Age, df[col])\n",
    "  plt.xlabel('Age')\n",
    "  plt.ylabel(col)\n",
    "  plt.title(f\"Age vs. {col}\")\n",
    "  plt.show()\n",
    "  print('\\n\\n')"
   ]
  },
  {
   "cell_type": "markdown",
   "metadata": {},
   "source": [
    "From the above information and the scatter plots, we can see that there is not much dependency between Age with Region or with Online Shopper.\n",
    "\n",
    "Hence the missing value in Age can be imputed with the column mean."
   ]
  },
  {
   "cell_type": "code",
   "execution_count": 6,
   "metadata": {},
   "outputs": [
    {
     "data": {
      "text/plain": [
       "Region            0\n",
       "Age               0\n",
       "Income            1\n",
       "Online Shopper    0\n",
       "dtype: int64"
      ]
     },
     "execution_count": 6,
     "metadata": {},
     "output_type": "execute_result"
    }
   ],
   "source": [
    "df.Age.fillna(round(df.Age.mean()), inplace=True)\n",
    "df.isna().sum()"
   ]
  },
  {
   "cell_type": "markdown",
   "metadata": {},
   "source": [
    "## To impute Income\n"
   ]
  },
  {
   "cell_type": "code",
   "execution_count": 7,
   "metadata": {},
   "outputs": [
    {
     "name": "stdout",
     "output_type": "stream",
     "text": [
      "Relation of Income with Region\n",
      "        count     mean           std      min      25%      50%      75%  \\\n",
      "Region                                                                     \n",
      "Brazil    3.0  64400.0   7989.993742  57600.0  60000.0  62400.0  67800.0   \n",
      "India     4.0  82800.0  10598.113040  69600.0  77700.0  83400.0  88500.0   \n",
      "USA       2.0  82200.0  24607.315985  64800.0  73500.0  82200.0  90900.0   \n",
      "\n",
      "            max  \n",
      "Region           \n",
      "Brazil  73200.0  \n",
      "India   94800.0  \n",
      "USA     99600.0  \n"
     ]
    },
    {
     "data": {
      "image/png": "[encoded data removed]",
      "text/plain": [
       "<Figure size 432x288 with 1 Axes>"
      ]
     },
     "metadata": {
      "needs_background": "light"
     },
     "output_type": "display_data"
    },
    {
     "name": "stdout",
     "output_type": "stream",
     "text": [
      "\n",
      "\n",
      "\n",
      "Relation of Income with Online Shopper\n",
      "                count     mean           std      min      25%      50%  \\\n",
      "Online Shopper                                                            \n",
      "No                5.0  77280.0  15613.840015  62400.0  64800.0  73200.0   \n",
      "Yes               4.0  75600.0  15829.087150  57600.0  66600.0  75000.0   \n",
      "\n",
      "                    75%      max  \n",
      "Online Shopper                    \n",
      "No              86400.0  99600.0  \n",
      "Yes             84000.0  94800.0  \n"
     ]
    },
    {
     "data": {
      "image/png": "[encoded data removed]",
      "text/plain": [
       "<Figure size 432x288 with 1 Axes>"
      ]
     },
     "metadata": {
      "needs_background": "light"
     },
     "output_type": "display_data"
    },
    {
     "name": "stdout",
     "output_type": "stream",
     "text": [
      "\n",
      "\n",
      "\n",
      "Relation of Income with Age\n",
      "      count     mean  std      min      25%      50%      75%      max\n",
      "Age                                                                   \n",
      "32.0    1.0  57600.0  NaN  57600.0  57600.0  57600.0  57600.0  57600.0\n",
      "35.0    1.0  64800.0  NaN  64800.0  64800.0  64800.0  64800.0  64800.0\n",
      "40.0    1.0  69600.0  NaN  69600.0  69600.0  69600.0  69600.0  69600.0\n",
      "42.0    1.0  80400.0  NaN  80400.0  80400.0  80400.0  80400.0  80400.0\n",
      "43.0    1.0  73200.0  NaN  73200.0  73200.0  73200.0  73200.0  73200.0\n",
      "44.0    1.0  62400.0  NaN  62400.0  62400.0  62400.0  62400.0  62400.0\n",
      "45.0    0.0      NaN  NaN      NaN      NaN      NaN      NaN      NaN\n",
      "49.0    1.0  86400.0  NaN  86400.0  86400.0  86400.0  86400.0  86400.0\n",
      "53.0    1.0  94800.0  NaN  94800.0  94800.0  94800.0  94800.0  94800.0\n",
      "55.0    1.0  99600.0  NaN  99600.0  99600.0  99600.0  99600.0  99600.0\n"
     ]
    },
    {
     "data": {
      "image/png": "[encoded data removed]",
      "text/plain": [
       "<Figure size 432x288 with 1 Axes>"
      ]
     },
     "metadata": {
      "needs_background": "light"
     },
     "output_type": "display_data"
    },
    {
     "name": "stdout",
     "output_type": "stream",
     "text": [
      "\n",
      "\n",
      "\n"
     ]
    }
   ],
   "source": [
    "# checking for any relation of Income with other features\n",
    "for col in ['Region', 'Online Shopper', 'Age']:\n",
    "  print(f\"Relation of Income with {col}\")\n",
    "  print(df.groupby(col).Income.describe())\n",
    "  plt.scatter(df.Income, df[col])\n",
    "  plt.xlabel('Income')\n",
    "  plt.ylabel(col)\n",
    "  plt.title(f\"Income vs. {col}\")\n",
    "  plt.show()\n",
    "  print('\\n\\n')"
   ]
  },
  {
   "cell_type": "code",
   "execution_count": 8,
   "metadata": {},
   "outputs": [
    {
     "name": "stdout",
     "output_type": "stream",
     "text": [
      "             Age    Income\n",
      "Age     1.000000  0.910607\n",
      "Income  0.910607  1.000000\n"
     ]
    },
    {
     "data": {
      "image/png": "[encoded data removed]",
      "text/plain": [
       "<Figure size 432x288 with 1 Axes>"
      ]
     },
     "metadata": {
      "needs_background": "light"
     },
     "output_type": "display_data"
    }
   ],
   "source": [
    "# to find more details on the correlation of Income with Age\n",
    "print(df.corr())\n",
    "plt.scatter(df.Age, df.Income, c=df['Region'].map({'Brazil':'green', 'India':'blue', 'USA': 'red'}))\n",
    "plt.xlabel('Age')\n",
    "plt.ylabel('Income')\n",
    "plt.title(f\"Age vs. Income\")\n",
    "plt.show()"
   ]
  },
  {
   "cell_type": "markdown",
   "metadata": {},
   "source": [
    "From the above graphs and values, we can see that Region and Online Shopper columns have no much impact on the Income. But Age and Income seem to be highly correlated.\n",
    "\n",
    "The scatter plot between Age & Income shows a linear relationship as well. We can try to fit a linear regression model using the Age data to predict the Income."
   ]
  },
  {
   "cell_type": "code",
   "execution_count": 9,
   "metadata": {},
   "outputs": [
    {
     "data": {
      "text/html": [
       "<div>\n",
       "<style scoped>\n",
       "    .dataframe tbody tr th:only-of-type {\n",
       "        vertical-align: middle;\n",
       "    }\n",
       "\n",
       "    .dataframe tbody tr th {\n",
       "        vertical-align: top;\n",
       "    }\n",
       "\n",
       "    .dataframe thead th {\n",
       "        text-align: right;\n",
       "    }\n",
       "</style>\n",
       "<table border=\"1\" class=\"dataframe\">\n",
       "  <thead>\n",
       "    <tr style=\"text-align: right;\">\n",
       "      <th></th>\n",
       "      <th>Region</th>\n",
       "      <th>Age</th>\n",
       "      <th>Income</th>\n",
       "      <th>Online Shopper</th>\n",
       "    </tr>\n",
       "  </thead>\n",
       "  <tbody>\n",
       "    <tr>\n",
       "      <th>0</th>\n",
       "      <td>India</td>\n",
       "      <td>49.0</td>\n",
       "      <td>86400.0</td>\n",
       "      <td>No</td>\n",
       "    </tr>\n",
       "    <tr>\n",
       "      <th>1</th>\n",
       "      <td>Brazil</td>\n",
       "      <td>32.0</td>\n",
       "      <td>57600.0</td>\n",
       "      <td>Yes</td>\n",
       "    </tr>\n",
       "    <tr>\n",
       "      <th>2</th>\n",
       "      <td>USA</td>\n",
       "      <td>35.0</td>\n",
       "      <td>64800.0</td>\n",
       "      <td>No</td>\n",
       "    </tr>\n",
       "    <tr>\n",
       "      <th>3</th>\n",
       "      <td>Brazil</td>\n",
       "      <td>43.0</td>\n",
       "      <td>73200.0</td>\n",
       "      <td>No</td>\n",
       "    </tr>\n",
       "    <tr>\n",
       "      <th>4</th>\n",
       "      <td>India</td>\n",
       "      <td>40.0</td>\n",
       "      <td>69600.0</td>\n",
       "      <td>Yes</td>\n",
       "    </tr>\n",
       "    <tr>\n",
       "      <th>5</th>\n",
       "      <td>Brazil</td>\n",
       "      <td>44.0</td>\n",
       "      <td>62400.0</td>\n",
       "      <td>No</td>\n",
       "    </tr>\n",
       "    <tr>\n",
       "      <th>6</th>\n",
       "      <td>India</td>\n",
       "      <td>53.0</td>\n",
       "      <td>94800.0</td>\n",
       "      <td>Yes</td>\n",
       "    </tr>\n",
       "    <tr>\n",
       "      <th>7</th>\n",
       "      <td>USA</td>\n",
       "      <td>55.0</td>\n",
       "      <td>99600.0</td>\n",
       "      <td>No</td>\n",
       "    </tr>\n",
       "    <tr>\n",
       "      <th>8</th>\n",
       "      <td>India</td>\n",
       "      <td>42.0</td>\n",
       "      <td>80400.0</td>\n",
       "      <td>Yes</td>\n",
       "    </tr>\n",
       "  </tbody>\n",
       "</table>\n",
       "</div>"
      ],
      "text/plain": [
       "   Region   Age   Income Online Shopper\n",
       "0   India  49.0  86400.0             No\n",
       "1  Brazil  32.0  57600.0            Yes\n",
       "2     USA  35.0  64800.0             No\n",
       "3  Brazil  43.0  73200.0             No\n",
       "4   India  40.0  69600.0            Yes\n",
       "5  Brazil  44.0  62400.0             No\n",
       "6   India  53.0  94800.0            Yes\n",
       "7     USA  55.0  99600.0             No\n",
       "8   India  42.0  80400.0            Yes"
      ]
     },
     "execution_count": 9,
     "metadata": {},
     "output_type": "execute_result"
    }
   ],
   "source": [
    "df_wo_na = df.dropna().reset_index(drop=True) # fetching the data with non-null Income for modeling\n",
    "df_wo_na.head(10)"
   ]
  },
  {
   "cell_type": "code",
   "execution_count": 10,
   "metadata": {},
   "outputs": [
    {
     "data": {
      "text/plain": [
       "0.8252376533528509"
      ]
     },
     "execution_count": 10,
     "metadata": {},
     "output_type": "execute_result"
    }
   ],
   "source": [
    "from sklearn.linear_model import LinearRegression\n",
    "from sklearn.model_selection import train_test_split\n",
    "\n",
    "X_train, X_test, y_train, y_test = train_test_split(df_wo_na.Age, df_wo_na.Income, train_size=0.8, random_state=17)\n",
    "\n",
    "lr = LinearRegression()\n",
    "lr.fit(np.array(X_train).reshape(-1, 1), y_train)\n",
    "\n",
    "lr.score(np.array(X_train).reshape(-1, 1), y_train)"
   ]
  },
  {
   "cell_type": "code",
   "execution_count": 11,
   "metadata": {},
   "outputs": [
    {
     "name": "stdout",
     "output_type": "stream",
     "text": [
      "[61900.8782936  77504.64240903 86173.40025094 74037.13927227\n",
      " 93108.40652447 96575.90966123 56699.62358846]\n",
      "[64800. 62400. 86400. 80400. 94800. 99600. 57600.]\n"
     ]
    }
   ],
   "source": [
    "# Checking the predicted and true Incomes on the training data (since the data is small, manually inspecting)\n",
    "print(lr.predict(np.array(X_train).reshape(-1, 1)))\n",
    "print(np.array(y_train))"
   ]
  },
  {
   "cell_type": "code",
   "execution_count": 12,
   "metadata": {},
   "outputs": [
    {
     "name": "stdout",
     "output_type": "stream",
     "text": [
      "[70569.63613551 75770.89084065]\n",
      "[69600. 73200.]\n"
     ]
    }
   ],
   "source": [
    "# Checking the predicted and true Incomes on the test data (since the data is small, manually inspecting)\n",
    "print(lr.predict(np.array(X_test).reshape(-1, 1)))\n",
    "print(np.array(y_test))"
   ]
  },
  {
   "cell_type": "markdown",
   "metadata": {},
   "source": [
    "Even though not perfect, the model seems to be okay, given how small the data is."
   ]
  },
  {
   "cell_type": "code",
   "execution_count": 13,
   "metadata": {},
   "outputs": [
    {
     "name": "stdout",
     "output_type": "stream",
     "text": [
      "Training Metrics:: RMSE: 6435.502; MAE: 4315.612; R-squared: 0.825\n",
      "Testing Metrics:: RMSE: 1942.894; MAE: 1770.263; R-squared: -0.165\n"
     ]
    }
   ],
   "source": [
    "# checking some regression metrics of the model\n",
    "\n",
    "from sklearn.metrics import mean_squared_error, mean_absolute_error, r2_score\n",
    "\n",
    "# training data\n",
    "y_pred_train = lr.predict(np.array(X_train).reshape(-1, 1))\n",
    "rmse = round(np.sqrt(mean_squared_error(y_train, y_pred_train)), 3)\n",
    "mae = round(mean_absolute_error(y_train, y_pred_train), 3)\n",
    "r2 = round(r2_score(y_train, y_pred_train), 3)\n",
    "print(f\"Training Metrics:: RMSE: {rmse}; MAE: {mae}; R-squared: {r2}\")\n",
    "\n",
    "# test data\n",
    "y_pred_test = lr.predict(np.array(X_test).reshape(-1, 1))\n",
    "rmse = round(np.sqrt(mean_squared_error(y_test, y_pred_test)), 3)\n",
    "mae = round(mean_absolute_error(y_test, y_pred_test), 3)\n",
    "r2 = round(r2_score(y_test, y_pred_test), 3)\n",
    "print(f\"Testing Metrics:: RMSE: {rmse}; MAE: {mae}; R-squared: {r2}\")"
   ]
  },
  {
   "cell_type": "code",
   "execution_count": 14,
   "metadata": {},
   "outputs": [
    {
     "data": {
      "image/png": "[encoded data removed]",
      "text/plain": [
       "<Figure size 432x288 with 1 Axes>"
      ]
     },
     "metadata": {
      "needs_background": "light"
     },
     "output_type": "display_data"
    }
   ],
   "source": [
    "# Visualising the linear model\n",
    "plt.scatter(df_wo_na.Age, df_wo_na.Income, color = \"red\")\n",
    "plt.plot(df_wo_na.Age, lr.predict(np.array(df_wo_na.Age).reshape(-1, 1)), color = \"green\")\n",
    "plt.title(\"Age vs Income\")\n",
    "plt.xlabel(\"Age\")\n",
    "plt.ylabel(\"Income\")\n",
    "plt.show()"
   ]
  },
  {
   "cell_type": "markdown",
   "metadata": {},
   "source": [
    "This seems to serve our purpose."
   ]
  },
  {
   "cell_type": "code",
   "execution_count": 15,
   "metadata": {},
   "outputs": [
    {
     "data": {
      "text/plain": [
       "79238.39397741531"
      ]
     },
     "execution_count": 15,
     "metadata": {},
     "output_type": "execute_result"
    }
   ],
   "source": [
    "# Predicted value for the missing Income\n",
    "lr.predict(np.array(df[df.Income.isna()].Age).reshape(-1, 1))[0]"
   ]
  },
  {
   "cell_type": "code",
   "execution_count": 16,
   "metadata": {},
   "outputs": [
    {
     "data": {
      "text/html": [
       "<div>\n",
       "<style scoped>\n",
       "    .dataframe tbody tr th:only-of-type {\n",
       "        vertical-align: middle;\n",
       "    }\n",
       "\n",
       "    .dataframe tbody tr th {\n",
       "        vertical-align: top;\n",
       "    }\n",
       "\n",
       "    .dataframe thead th {\n",
       "        text-align: right;\n",
       "    }\n",
       "</style>\n",
       "<table border=\"1\" class=\"dataframe\">\n",
       "  <thead>\n",
       "    <tr style=\"text-align: right;\">\n",
       "      <th></th>\n",
       "      <th>Region</th>\n",
       "      <th>Age</th>\n",
       "      <th>Income</th>\n",
       "      <th>Online Shopper</th>\n",
       "    </tr>\n",
       "  </thead>\n",
       "  <tbody>\n",
       "    <tr>\n",
       "      <th>0</th>\n",
       "      <td>India</td>\n",
       "      <td>49.0</td>\n",
       "      <td>86400.000000</td>\n",
       "      <td>No</td>\n",
       "    </tr>\n",
       "    <tr>\n",
       "      <th>1</th>\n",
       "      <td>Brazil</td>\n",
       "      <td>32.0</td>\n",
       "      <td>57600.000000</td>\n",
       "      <td>Yes</td>\n",
       "    </tr>\n",
       "    <tr>\n",
       "      <th>2</th>\n",
       "      <td>USA</td>\n",
       "      <td>35.0</td>\n",
       "      <td>64800.000000</td>\n",
       "      <td>No</td>\n",
       "    </tr>\n",
       "    <tr>\n",
       "      <th>3</th>\n",
       "      <td>Brazil</td>\n",
       "      <td>43.0</td>\n",
       "      <td>73200.000000</td>\n",
       "      <td>No</td>\n",
       "    </tr>\n",
       "    <tr>\n",
       "      <th>4</th>\n",
       "      <td>USA</td>\n",
       "      <td>45.0</td>\n",
       "      <td>79238.393977</td>\n",
       "      <td>Yes</td>\n",
       "    </tr>\n",
       "    <tr>\n",
       "      <th>5</th>\n",
       "      <td>India</td>\n",
       "      <td>40.0</td>\n",
       "      <td>69600.000000</td>\n",
       "      <td>Yes</td>\n",
       "    </tr>\n",
       "    <tr>\n",
       "      <th>6</th>\n",
       "      <td>Brazil</td>\n",
       "      <td>44.0</td>\n",
       "      <td>62400.000000</td>\n",
       "      <td>No</td>\n",
       "    </tr>\n",
       "    <tr>\n",
       "      <th>7</th>\n",
       "      <td>India</td>\n",
       "      <td>53.0</td>\n",
       "      <td>94800.000000</td>\n",
       "      <td>Yes</td>\n",
       "    </tr>\n",
       "    <tr>\n",
       "      <th>8</th>\n",
       "      <td>USA</td>\n",
       "      <td>55.0</td>\n",
       "      <td>99600.000000</td>\n",
       "      <td>No</td>\n",
       "    </tr>\n",
       "    <tr>\n",
       "      <th>9</th>\n",
       "      <td>India</td>\n",
       "      <td>42.0</td>\n",
       "      <td>80400.000000</td>\n",
       "      <td>Yes</td>\n",
       "    </tr>\n",
       "  </tbody>\n",
       "</table>\n",
       "</div>"
      ],
      "text/plain": [
       "   Region   Age        Income Online Shopper\n",
       "0   India  49.0  86400.000000             No\n",
       "1  Brazil  32.0  57600.000000            Yes\n",
       "2     USA  35.0  64800.000000             No\n",
       "3  Brazil  43.0  73200.000000             No\n",
       "4     USA  45.0  79238.393977            Yes\n",
       "5   India  40.0  69600.000000            Yes\n",
       "6  Brazil  44.0  62400.000000             No\n",
       "7   India  53.0  94800.000000            Yes\n",
       "8     USA  55.0  99600.000000             No\n",
       "9   India  42.0  80400.000000            Yes"
      ]
     },
     "execution_count": 16,
     "metadata": {},
     "output_type": "execute_result"
    }
   ],
   "source": [
    "# Imputing the missing values in Income with the predicted values\n",
    "df[\"Income\"] = np.where(df.Income.isna(), lr.predict(np.array(df.Age).reshape(-1, 1)), df.Income)\n",
    "df.head(10)"
   ]
  },
  {
   "cell_type": "markdown",
   "metadata": {},
   "source": [
    "# Normality Tests"
   ]
  },
  {
   "cell_type": "markdown",
   "metadata": {},
   "source": [
    "*Reference: https://machinelearningmastery.com/a-gentle-introduction-to-normality-tests-in-python/*"
   ]
  },
  {
   "cell_type": "code",
   "execution_count": 17,
   "metadata": {},
   "outputs": [],
   "source": [
    "num_cols = ['Age', 'Income']"
   ]
  },
  {
   "cell_type": "markdown",
   "metadata": {},
   "source": [
    "## Visualisation"
   ]
  },
  {
   "cell_type": "code",
   "execution_count": 18,
   "metadata": {},
   "outputs": [
    {
     "data": {
      "image/png": "[encoded data removed]",
      "text/plain": [
       "<Figure size 1080x360 with 2 Axes>"
      ]
     },
     "metadata": {
      "needs_background": "light"
     },
     "output_type": "display_data"
    },
    {
     "data": {
      "image/png": "[encoded data removed]",
      "text/plain": [
       "<Figure size 1080x360 with 2 Axes>"
      ]
     },
     "metadata": {
      "needs_background": "light"
     },
     "output_type": "display_data"
    }
   ],
   "source": [
    "# Checking normality using visualisation\n",
    "from statsmodels.graphics.gofplots import qqplot\n",
    "\n",
    "for col in num_cols:\n",
    "  \n",
    "  # creating subplots\n",
    "  fig, axes = plt.subplots(1, 2, figsize=(15, 5))\n",
    "  fig.suptitle(f'Visualising the normality of {col}')\n",
    "  \n",
    "  # histogram\n",
    "  sns.histplot(ax=axes[0], x=df[col], kde=True)\n",
    "  axes[0].set_title(f\"Histogram of {col}\")\n",
    "\n",
    "  # qq-plot\n",
    "  qqplot(ax=axes[1], data=df[col], line='s')\n",
    "  axes[1].set_title(f\"QQ plot of {col}\")\n",
    "\n",
    "  plt.show()"
   ]
  },
  {
   "cell_type": "markdown",
   "metadata": {},
   "source": [
    "From the above visualisations, both the Age & Income columns seem to be likely Gaussian."
   ]
  },
  {
   "cell_type": "markdown",
   "metadata": {},
   "source": [
    "## Statistical Tests"
   ]
  },
  {
   "cell_type": "markdown",
   "metadata": {},
   "source": [
    "Statistical tests are done by assuming a hypothesis (namely, the null hypothesis or H0). If the p-statistic obtained from the test calculations are less than or equal to a threshold (theta), then we can reject the hypothesis. Otherwise, i.e., if the p-statistic is greater than theta, then we fail to reject the null hypothesis.\n",
    "\n",
    "The threshold, theta, is typically taken to be 0.05 (5%). "
   ]
  },
  {
   "cell_type": "code",
   "execution_count": 19,
   "metadata": {},
   "outputs": [],
   "source": [
    "theta = 0.05 # threshold for the tests' p-values"
   ]
  },
  {
   "cell_type": "markdown",
   "metadata": {},
   "source": [
    "In our case, the assumption is that the data (column values) was drawn from a normal (Gaussian) distribution. The null hypotheses, for each of the numercial columns, are as follows:\n",
    "\n",
    "***Age***\n",
    "\n",
    "*H0_Age: The data from the column Age was drawn from a normal distribution.*\n",
    "\n",
    "* If p_Age <= 0.05, then reject H0_Age, i.e., Age data is not normal.\n",
    "* Else, we fail to reject H0_Age, i.e., fail to conclude that Age data is not normal.\n",
    "\n",
    "***Income***\n",
    "\n",
    "*H0_Income: The data from the column Income was drawn from a normal distribution.*\n",
    "\n",
    "* If p_Income <= 0.05, then reject H0_Income, i.e., Income data is not normal.\n",
    "* Else, we fail to reject H0_Income, i.e., fail to conclude that Income data is not normal."
   ]
  },
  {
   "cell_type": "markdown",
   "metadata": {},
   "source": [
    "We will perform some types of normality tests and see the statistics."
   ]
  },
  {
   "cell_type": "markdown",
   "metadata": {},
   "source": [
    "### Shapiro-Wilk test"
   ]
  },
  {
   "cell_type": "code",
   "execution_count": 20,
   "metadata": {},
   "outputs": [
    {
     "name": "stdout",
     "output_type": "stream",
     "text": [
      "Running test for Age\n",
      "Statistics=0.972, p_Age=0.908\n",
      "Shapiro-Wilk test failed to reject the null hypothesis for Age. The data from the column Age seems normal.\n",
      "\n",
      "Running test for Income\n",
      "Statistics=0.964, p_Income=0.831\n",
      "Shapiro-Wilk test failed to reject the null hypothesis for Income. The data from the column Income seems normal.\n",
      "\n"
     ]
    }
   ],
   "source": [
    "from scipy.stats import shapiro\n",
    "\n",
    "for col in num_cols:\n",
    "  print(f\"Running test for {col}\")\n",
    "  stats, p = shapiro(df[col])\n",
    "  print(f\"Statistics={round(stats, 3)}, p_{col}={round(p, 3)}\")\n",
    "  if p <= theta:\n",
    "    print(f\"Shapiro-Wilk test rejects the null hypothesis for {col}. The data from the column {col} is not normal.\")\n",
    "  else:\n",
    "    print(f\"Shapiro-Wilk test failed to reject the null hypothesis for {col}. The data from the column {col} seems normal.\")\n",
    "  print()"
   ]
  },
  {
   "cell_type": "markdown",
   "metadata": {},
   "source": [
    "### Chi-square test"
   ]
  },
  {
   "cell_type": "code",
   "execution_count": 21,
   "metadata": {},
   "outputs": [
    {
     "name": "stdout",
     "output_type": "stream",
     "text": [
      "Running test for Age\n",
      "Statistics=10.813, p_Age=0.289\n",
      "Chi-square test failed to reject the null hypothesis for Age. The data from the column Age seems normal.\n",
      "\n",
      "Running test for Income\n",
      "Statistics=22651.285, p_Income=0.0\n",
      "Chi-square test rejects the null hypothesis for Income. The data from the column Income is not normal.\n",
      "\n"
     ]
    }
   ],
   "source": [
    "from scipy.stats import chisquare\n",
    "\n",
    "for col in num_cols:\n",
    "  print(f\"Running test for {col}\")\n",
    "  stats, p = chisquare(df[col])\n",
    "  print(f\"Statistics={round(stats, 3)}, p_{col}={round(p, 3)}\")\n",
    "  if p <= theta:\n",
    "    print(f\"Chi-square test rejects the null hypothesis for {col}. The data from the column {col} is not normal.\")\n",
    "  else:\n",
    "    print(f\"Chi-square test failed to reject the null hypothesis for {col}. The data from the column {col} seems normal.\")\n",
    "  print()"
   ]
  },
  {
   "cell_type": "markdown",
   "metadata": {},
   "source": [
    "### Lilliefors test"
   ]
  },
  {
   "cell_type": "code",
   "execution_count": 22,
   "metadata": {},
   "outputs": [
    {
     "name": "stdout",
     "output_type": "stream",
     "text": [
      "Running test for Age\n",
      "Statistics=0.134, p_Age=0.872\n",
      "Lilliefors test failed to reject the null hypothesis for Age. The data from the column Age seems normal.\n",
      "\n",
      "Running test for Income\n",
      "Statistics=0.106, p_Income=0.987\n",
      "Lilliefors test failed to reject the null hypothesis for Income. The data from the column Income seems normal.\n",
      "\n"
     ]
    }
   ],
   "source": [
    "from statsmodels.stats.diagnostic import lilliefors\n",
    "\n",
    "for col in num_cols:\n",
    "  print(f\"Running test for {col}\")\n",
    "  stats, p = lilliefors(df[col])\n",
    "  print(f\"Statistics={round(stats, 3)}, p_{col}={round(p, 3)}\")\n",
    "  if p <= theta:\n",
    "    print(f\"Lilliefors test rejects the null hypothesis for {col}. The data from the column {col} is not normal.\")\n",
    "  else:\n",
    "    print(f\"Lilliefors test failed to reject the null hypothesis for {col}. The data from the column {col} seems normal.\")\n",
    "  print()"
   ]
  },
  {
   "cell_type": "markdown",
   "metadata": {},
   "source": [
    "### Kolmogorov-Smirnov test"
   ]
  },
  {
   "cell_type": "code",
   "execution_count": 23,
   "metadata": {},
   "outputs": [
    {
     "name": "stdout",
     "output_type": "stream",
     "text": [
      "Running test for Age\n",
      "Statistics=1.0, p_Age=0.0\n",
      "Kolmogorov-Smirnov test rejects the null hypothesis for Age. The data from the column Age is not normal.\n",
      "\n",
      "Running test for Income\n",
      "Statistics=1.0, p_Income=0.0\n",
      "Kolmogorov-Smirnov test rejects the null hypothesis for Income. The data from the column Income is not normal.\n",
      "\n"
     ]
    }
   ],
   "source": [
    "from scipy.stats import kstest\n",
    "\n",
    "for col in num_cols:\n",
    "  print(f\"Running test for {col}\")\n",
    "  stats, p = kstest(df[col], \"norm\")\n",
    "  print(f\"Statistics={round(stats, 3)}, p_{col}={round(p, 3)}\")\n",
    "  if p <= theta:\n",
    "    print(f\"Kolmogorov-Smirnov test rejects the null hypothesis for {col}. The data from the column {col} is not normal.\")\n",
    "  else:\n",
    "    print(f\"Kolmogorov-Smirnov test failed to reject the null hypothesis for {col}. The data from the column {col} seems normal.\")\n",
    "  print()"
   ]
  },
  {
   "cell_type": "markdown",
   "metadata": {},
   "source": [
    "### Inference from Statistical Tests"
   ]
  },
  {
   "cell_type": "markdown",
   "metadata": {},
   "source": [
    "Even though the null hypotheses for Age & Income were rejected by some of the tests, since the data contained very less samples, only the Shapiro-Wilk test results can be considered valid (as this test has the ability to bring out the normality in such cases)."
   ]
  },
  {
   "cell_type": "markdown",
   "metadata": {},
   "source": [
    "## Inference"
   ]
  },
  {
   "cell_type": "code",
   "execution_count": 24,
   "metadata": {},
   "outputs": [
    {
     "data": {
      "text/plain": [
       "count    10.000000\n",
       "mean     43.800000\n",
       "std       7.254118\n",
       "min      32.000000\n",
       "25%      40.500000\n",
       "50%      43.500000\n",
       "75%      48.000000\n",
       "max      55.000000\n",
       "Name: Age, dtype: float64"
      ]
     },
     "execution_count": 24,
     "metadata": {},
     "output_type": "execute_result"
    }
   ],
   "source": [
    "df.Age.describe()"
   ]
  },
  {
   "cell_type": "code",
   "execution_count": 25,
   "metadata": {},
   "outputs": [
    {
     "data": {
      "text/plain": [
       "count       10.000000\n",
       "mean     76803.839398\n",
       "std      13903.259481\n",
       "min      57600.000000\n",
       "25%      66000.000000\n",
       "50%      76219.196989\n",
       "75%      84900.000000\n",
       "max      99600.000000\n",
       "Name: Income, dtype: float64"
      ]
     },
     "execution_count": 25,
     "metadata": {},
     "output_type": "execute_result"
    }
   ],
   "source": [
    "df.Income.describe()"
   ]
  },
  {
   "cell_type": "markdown",
   "metadata": {},
   "source": [
    "Considering the results from the Shapiro-Wilk test and the above statistics, and also from the visualisations, we can conclude that both Age & Income are likely from a Gaussian distribution."
   ]
  },
  {
   "cell_type": "markdown",
   "metadata": {},
   "source": [
    "# Encoding Categorical Variables"
   ]
  },
  {
   "cell_type": "markdown",
   "metadata": {},
   "source": [
    "## Encoding the column \"Region\"\n",
    "\n",
    "Usually, for modeling purposes, since region is a nominal (no order) variable rather than an ordinal (has order) variable, it is better to use encodings like One-hot encoding or dummy variable encoding. For visualizations & other non-modeling purposes, it is okay & convenient to use ordinal encodings. \n",
    "\n",
    "Since we are not modeling on the data now, only ordinal encoding is perfomed below."
   ]
  },
  {
   "cell_type": "code",
   "execution_count": 26,
   "metadata": {},
   "outputs": [
    {
     "data": {
      "text/html": [
       "<div>\n",
       "<style scoped>\n",
       "    .dataframe tbody tr th:only-of-type {\n",
       "        vertical-align: middle;\n",
       "    }\n",
       "\n",
       "    .dataframe tbody tr th {\n",
       "        vertical-align: top;\n",
       "    }\n",
       "\n",
       "    .dataframe thead th {\n",
       "        text-align: right;\n",
       "    }\n",
       "</style>\n",
       "<table border=\"1\" class=\"dataframe\">\n",
       "  <thead>\n",
       "    <tr style=\"text-align: right;\">\n",
       "      <th></th>\n",
       "      <th>Region</th>\n",
       "      <th>Age</th>\n",
       "      <th>Income</th>\n",
       "      <th>Online Shopper</th>\n",
       "    </tr>\n",
       "  </thead>\n",
       "  <tbody>\n",
       "    <tr>\n",
       "      <th>0</th>\n",
       "      <td>1.0</td>\n",
       "      <td>49.0</td>\n",
       "      <td>86400.000000</td>\n",
       "      <td>No</td>\n",
       "    </tr>\n",
       "    <tr>\n",
       "      <th>1</th>\n",
       "      <td>0.0</td>\n",
       "      <td>32.0</td>\n",
       "      <td>57600.000000</td>\n",
       "      <td>Yes</td>\n",
       "    </tr>\n",
       "    <tr>\n",
       "      <th>2</th>\n",
       "      <td>2.0</td>\n",
       "      <td>35.0</td>\n",
       "      <td>64800.000000</td>\n",
       "      <td>No</td>\n",
       "    </tr>\n",
       "    <tr>\n",
       "      <th>3</th>\n",
       "      <td>0.0</td>\n",
       "      <td>43.0</td>\n",
       "      <td>73200.000000</td>\n",
       "      <td>No</td>\n",
       "    </tr>\n",
       "    <tr>\n",
       "      <th>4</th>\n",
       "      <td>2.0</td>\n",
       "      <td>45.0</td>\n",
       "      <td>79238.393977</td>\n",
       "      <td>Yes</td>\n",
       "    </tr>\n",
       "    <tr>\n",
       "      <th>5</th>\n",
       "      <td>1.0</td>\n",
       "      <td>40.0</td>\n",
       "      <td>69600.000000</td>\n",
       "      <td>Yes</td>\n",
       "    </tr>\n",
       "    <tr>\n",
       "      <th>6</th>\n",
       "      <td>0.0</td>\n",
       "      <td>44.0</td>\n",
       "      <td>62400.000000</td>\n",
       "      <td>No</td>\n",
       "    </tr>\n",
       "    <tr>\n",
       "      <th>7</th>\n",
       "      <td>1.0</td>\n",
       "      <td>53.0</td>\n",
       "      <td>94800.000000</td>\n",
       "      <td>Yes</td>\n",
       "    </tr>\n",
       "    <tr>\n",
       "      <th>8</th>\n",
       "      <td>2.0</td>\n",
       "      <td>55.0</td>\n",
       "      <td>99600.000000</td>\n",
       "      <td>No</td>\n",
       "    </tr>\n",
       "    <tr>\n",
       "      <th>9</th>\n",
       "      <td>1.0</td>\n",
       "      <td>42.0</td>\n",
       "      <td>80400.000000</td>\n",
       "      <td>Yes</td>\n",
       "    </tr>\n",
       "  </tbody>\n",
       "</table>\n",
       "</div>"
      ],
      "text/plain": [
       "   Region   Age        Income Online Shopper\n",
       "0     1.0  49.0  86400.000000             No\n",
       "1     0.0  32.0  57600.000000            Yes\n",
       "2     2.0  35.0  64800.000000             No\n",
       "3     0.0  43.0  73200.000000             No\n",
       "4     2.0  45.0  79238.393977            Yes\n",
       "5     1.0  40.0  69600.000000            Yes\n",
       "6     0.0  44.0  62400.000000             No\n",
       "7     1.0  53.0  94800.000000            Yes\n",
       "8     2.0  55.0  99600.000000             No\n",
       "9     1.0  42.0  80400.000000            Yes"
      ]
     },
     "execution_count": 26,
     "metadata": {},
     "output_type": "execute_result"
    }
   ],
   "source": [
    "# ordinal encoding\n",
    "from sklearn.preprocessing import OrdinalEncoder\n",
    "encoder = OrdinalEncoder()\n",
    "df[\"Region\"] = encoder.fit_transform(np.array(df.Region).reshape(-1,1))\n",
    "df"
   ]
  },
  {
   "cell_type": "markdown",
   "metadata": {},
   "source": [
    "## Encoding the column \"Online Shopper\"\n",
    "\n",
    "Since this column has only Yes/No values, we can replace it with 1/0."
   ]
  },
  {
   "cell_type": "code",
   "execution_count": 27,
   "metadata": {},
   "outputs": [
    {
     "data": {
      "text/html": [
       "<div>\n",
       "<style scoped>\n",
       "    .dataframe tbody tr th:only-of-type {\n",
       "        vertical-align: middle;\n",
       "    }\n",
       "\n",
       "    .dataframe tbody tr th {\n",
       "        vertical-align: top;\n",
       "    }\n",
       "\n",
       "    .dataframe thead th {\n",
       "        text-align: right;\n",
       "    }\n",
       "</style>\n",
       "<table border=\"1\" class=\"dataframe\">\n",
       "  <thead>\n",
       "    <tr style=\"text-align: right;\">\n",
       "      <th></th>\n",
       "      <th>Region</th>\n",
       "      <th>Age</th>\n",
       "      <th>Income</th>\n",
       "      <th>Online Shopper</th>\n",
       "    </tr>\n",
       "  </thead>\n",
       "  <tbody>\n",
       "    <tr>\n",
       "      <th>0</th>\n",
       "      <td>1.0</td>\n",
       "      <td>49.0</td>\n",
       "      <td>86400.000000</td>\n",
       "      <td>0</td>\n",
       "    </tr>\n",
       "    <tr>\n",
       "      <th>1</th>\n",
       "      <td>0.0</td>\n",
       "      <td>32.0</td>\n",
       "      <td>57600.000000</td>\n",
       "      <td>1</td>\n",
       "    </tr>\n",
       "    <tr>\n",
       "      <th>2</th>\n",
       "      <td>2.0</td>\n",
       "      <td>35.0</td>\n",
       "      <td>64800.000000</td>\n",
       "      <td>0</td>\n",
       "    </tr>\n",
       "    <tr>\n",
       "      <th>3</th>\n",
       "      <td>0.0</td>\n",
       "      <td>43.0</td>\n",
       "      <td>73200.000000</td>\n",
       "      <td>0</td>\n",
       "    </tr>\n",
       "    <tr>\n",
       "      <th>4</th>\n",
       "      <td>2.0</td>\n",
       "      <td>45.0</td>\n",
       "      <td>79238.393977</td>\n",
       "      <td>1</td>\n",
       "    </tr>\n",
       "    <tr>\n",
       "      <th>5</th>\n",
       "      <td>1.0</td>\n",
       "      <td>40.0</td>\n",
       "      <td>69600.000000</td>\n",
       "      <td>1</td>\n",
       "    </tr>\n",
       "    <tr>\n",
       "      <th>6</th>\n",
       "      <td>0.0</td>\n",
       "      <td>44.0</td>\n",
       "      <td>62400.000000</td>\n",
       "      <td>0</td>\n",
       "    </tr>\n",
       "    <tr>\n",
       "      <th>7</th>\n",
       "      <td>1.0</td>\n",
       "      <td>53.0</td>\n",
       "      <td>94800.000000</td>\n",
       "      <td>1</td>\n",
       "    </tr>\n",
       "    <tr>\n",
       "      <th>8</th>\n",
       "      <td>2.0</td>\n",
       "      <td>55.0</td>\n",
       "      <td>99600.000000</td>\n",
       "      <td>0</td>\n",
       "    </tr>\n",
       "    <tr>\n",
       "      <th>9</th>\n",
       "      <td>1.0</td>\n",
       "      <td>42.0</td>\n",
       "      <td>80400.000000</td>\n",
       "      <td>1</td>\n",
       "    </tr>\n",
       "  </tbody>\n",
       "</table>\n",
       "</div>"
      ],
      "text/plain": [
       "   Region   Age        Income  Online Shopper\n",
       "0     1.0  49.0  86400.000000               0\n",
       "1     0.0  32.0  57600.000000               1\n",
       "2     2.0  35.0  64800.000000               0\n",
       "3     0.0  43.0  73200.000000               0\n",
       "4     2.0  45.0  79238.393977               1\n",
       "5     1.0  40.0  69600.000000               1\n",
       "6     0.0  44.0  62400.000000               0\n",
       "7     1.0  53.0  94800.000000               1\n",
       "8     2.0  55.0  99600.000000               0\n",
       "9     1.0  42.0  80400.000000               1"
      ]
     },
     "execution_count": 27,
     "metadata": {},
     "output_type": "execute_result"
    }
   ],
   "source": [
    "df['Online Shopper'] = df['Online Shopper'].map({'Yes': 1, 'No': 0})\n",
    "df"
   ]
  },
  {
   "cell_type": "markdown",
   "metadata": {},
   "source": [
    "# Scaling Numerical Variables"
   ]
  },
  {
   "cell_type": "markdown",
   "metadata": {},
   "source": [
    "MinMaxScaler & StandardScaler are two popular data scalers. \n",
    "\n",
    "* MinMaxScaler performs no destortion of data (hence the outlier effects still persist).\n",
    "\n",
    "> * Range: [0, 1]\n",
    "\n",
    "* StandardScaler can be used for relatively Gaussian distributed data.\n",
    "\n",
    "> * Range: (-1, 1)\n",
    "> * Mean = 0\n",
    "> * Standard deviation = 1\n",
    "\n",
    "\n",
    "\n",
    "\n",
    "\n",
    "*Reference: https://medium.com/analytics-vidhya/why-scaling-is-important-in-machine-learning-aee5781d161a*"
   ]
  },
  {
   "cell_type": "markdown",
   "metadata": {},
   "source": [
    "## Scaling the column \"Age\"\n"
   ]
  },
  {
   "cell_type": "markdown",
   "metadata": {},
   "source": [
    "For the column Age, we will use the MinMaxScaler."
   ]
  },
  {
   "cell_type": "code",
   "execution_count": 28,
   "metadata": {},
   "outputs": [
    {
     "data": {
      "text/html": [
       "<div>\n",
       "<style scoped>\n",
       "    .dataframe tbody tr th:only-of-type {\n",
       "        vertical-align: middle;\n",
       "    }\n",
       "\n",
       "    .dataframe tbody tr th {\n",
       "        vertical-align: top;\n",
       "    }\n",
       "\n",
       "    .dataframe thead th {\n",
       "        text-align: right;\n",
       "    }\n",
       "</style>\n",
       "<table border=\"1\" class=\"dataframe\">\n",
       "  <thead>\n",
       "    <tr style=\"text-align: right;\">\n",
       "      <th></th>\n",
       "      <th>Region</th>\n",
       "      <th>Age</th>\n",
       "      <th>Income</th>\n",
       "      <th>Online Shopper</th>\n",
       "      <th>Age_scaled</th>\n",
       "    </tr>\n",
       "  </thead>\n",
       "  <tbody>\n",
       "    <tr>\n",
       "      <th>0</th>\n",
       "      <td>1.0</td>\n",
       "      <td>49.0</td>\n",
       "      <td>86400.000000</td>\n",
       "      <td>0</td>\n",
       "      <td>0.739130</td>\n",
       "    </tr>\n",
       "    <tr>\n",
       "      <th>1</th>\n",
       "      <td>0.0</td>\n",
       "      <td>32.0</td>\n",
       "      <td>57600.000000</td>\n",
       "      <td>1</td>\n",
       "      <td>0.000000</td>\n",
       "    </tr>\n",
       "    <tr>\n",
       "      <th>2</th>\n",
       "      <td>2.0</td>\n",
       "      <td>35.0</td>\n",
       "      <td>64800.000000</td>\n",
       "      <td>0</td>\n",
       "      <td>0.130435</td>\n",
       "    </tr>\n",
       "    <tr>\n",
       "      <th>3</th>\n",
       "      <td>0.0</td>\n",
       "      <td>43.0</td>\n",
       "      <td>73200.000000</td>\n",
       "      <td>0</td>\n",
       "      <td>0.478261</td>\n",
       "    </tr>\n",
       "    <tr>\n",
       "      <th>4</th>\n",
       "      <td>2.0</td>\n",
       "      <td>45.0</td>\n",
       "      <td>79238.393977</td>\n",
       "      <td>1</td>\n",
       "      <td>0.565217</td>\n",
       "    </tr>\n",
       "    <tr>\n",
       "      <th>5</th>\n",
       "      <td>1.0</td>\n",
       "      <td>40.0</td>\n",
       "      <td>69600.000000</td>\n",
       "      <td>1</td>\n",
       "      <td>0.347826</td>\n",
       "    </tr>\n",
       "    <tr>\n",
       "      <th>6</th>\n",
       "      <td>0.0</td>\n",
       "      <td>44.0</td>\n",
       "      <td>62400.000000</td>\n",
       "      <td>0</td>\n",
       "      <td>0.521739</td>\n",
       "    </tr>\n",
       "    <tr>\n",
       "      <th>7</th>\n",
       "      <td>1.0</td>\n",
       "      <td>53.0</td>\n",
       "      <td>94800.000000</td>\n",
       "      <td>1</td>\n",
       "      <td>0.913043</td>\n",
       "    </tr>\n",
       "    <tr>\n",
       "      <th>8</th>\n",
       "      <td>2.0</td>\n",
       "      <td>55.0</td>\n",
       "      <td>99600.000000</td>\n",
       "      <td>0</td>\n",
       "      <td>1.000000</td>\n",
       "    </tr>\n",
       "    <tr>\n",
       "      <th>9</th>\n",
       "      <td>1.0</td>\n",
       "      <td>42.0</td>\n",
       "      <td>80400.000000</td>\n",
       "      <td>1</td>\n",
       "      <td>0.434783</td>\n",
       "    </tr>\n",
       "  </tbody>\n",
       "</table>\n",
       "</div>"
      ],
      "text/plain": [
       "   Region   Age        Income  Online Shopper  Age_scaled\n",
       "0     1.0  49.0  86400.000000               0    0.739130\n",
       "1     0.0  32.0  57600.000000               1    0.000000\n",
       "2     2.0  35.0  64800.000000               0    0.130435\n",
       "3     0.0  43.0  73200.000000               0    0.478261\n",
       "4     2.0  45.0  79238.393977               1    0.565217\n",
       "5     1.0  40.0  69600.000000               1    0.347826\n",
       "6     0.0  44.0  62400.000000               0    0.521739\n",
       "7     1.0  53.0  94800.000000               1    0.913043\n",
       "8     2.0  55.0  99600.000000               0    1.000000\n",
       "9     1.0  42.0  80400.000000               1    0.434783"
      ]
     },
     "execution_count": 28,
     "metadata": {},
     "output_type": "execute_result"
    }
   ],
   "source": [
    "from sklearn.preprocessing import MinMaxScaler\n",
    "df['Age_scaled'] = MinMaxScaler().fit_transform(np.array(df.Age).reshape(-1,1))\n",
    "df"
   ]
  },
  {
   "cell_type": "markdown",
   "metadata": {},
   "source": [
    "## Scaling the column \"Income\""
   ]
  },
  {
   "cell_type": "markdown",
   "metadata": {},
   "source": [
    "For the column \"Income\", we can use the StandardScaler as we previously saw that it is likely from a Gaussian distribution."
   ]
  },
  {
   "cell_type": "code",
   "execution_count": 29,
   "metadata": {},
   "outputs": [
    {
     "data": {
      "text/html": [
       "<div>\n",
       "<style scoped>\n",
       "    .dataframe tbody tr th:only-of-type {\n",
       "        vertical-align: middle;\n",
       "    }\n",
       "\n",
       "    .dataframe tbody tr th {\n",
       "        vertical-align: top;\n",
       "    }\n",
       "\n",
       "    .dataframe thead th {\n",
       "        text-align: right;\n",
       "    }\n",
       "</style>\n",
       "<table border=\"1\" class=\"dataframe\">\n",
       "  <thead>\n",
       "    <tr style=\"text-align: right;\">\n",
       "      <th></th>\n",
       "      <th>Region</th>\n",
       "      <th>Age</th>\n",
       "      <th>Income</th>\n",
       "      <th>Online Shopper</th>\n",
       "      <th>Age_scaled</th>\n",
       "      <th>Income_scaled</th>\n",
       "    </tr>\n",
       "  </thead>\n",
       "  <tbody>\n",
       "    <tr>\n",
       "      <th>0</th>\n",
       "      <td>1.0</td>\n",
       "      <td>49.0</td>\n",
       "      <td>86400.000000</td>\n",
       "      <td>0</td>\n",
       "      <td>0.739130</td>\n",
       "      <td>0.727545</td>\n",
       "    </tr>\n",
       "    <tr>\n",
       "      <th>1</th>\n",
       "      <td>0.0</td>\n",
       "      <td>32.0</td>\n",
       "      <td>57600.000000</td>\n",
       "      <td>1</td>\n",
       "      <td>0.000000</td>\n",
       "      <td>-1.455962</td>\n",
       "    </tr>\n",
       "    <tr>\n",
       "      <th>2</th>\n",
       "      <td>2.0</td>\n",
       "      <td>35.0</td>\n",
       "      <td>64800.000000</td>\n",
       "      <td>0</td>\n",
       "      <td>0.130435</td>\n",
       "      <td>-0.910086</td>\n",
       "    </tr>\n",
       "    <tr>\n",
       "      <th>3</th>\n",
       "      <td>0.0</td>\n",
       "      <td>43.0</td>\n",
       "      <td>73200.000000</td>\n",
       "      <td>0</td>\n",
       "      <td>0.478261</td>\n",
       "      <td>-0.273229</td>\n",
       "    </tr>\n",
       "    <tr>\n",
       "      <th>4</th>\n",
       "      <td>2.0</td>\n",
       "      <td>45.0</td>\n",
       "      <td>79238.393977</td>\n",
       "      <td>1</td>\n",
       "      <td>0.565217</td>\n",
       "      <td>0.184579</td>\n",
       "    </tr>\n",
       "    <tr>\n",
       "      <th>5</th>\n",
       "      <td>1.0</td>\n",
       "      <td>40.0</td>\n",
       "      <td>69600.000000</td>\n",
       "      <td>1</td>\n",
       "      <td>0.347826</td>\n",
       "      <td>-0.546168</td>\n",
       "    </tr>\n",
       "    <tr>\n",
       "      <th>6</th>\n",
       "      <td>0.0</td>\n",
       "      <td>44.0</td>\n",
       "      <td>62400.000000</td>\n",
       "      <td>0</td>\n",
       "      <td>0.521739</td>\n",
       "      <td>-1.092045</td>\n",
       "    </tr>\n",
       "    <tr>\n",
       "      <th>7</th>\n",
       "      <td>1.0</td>\n",
       "      <td>53.0</td>\n",
       "      <td>94800.000000</td>\n",
       "      <td>1</td>\n",
       "      <td>0.913043</td>\n",
       "      <td>1.364401</td>\n",
       "    </tr>\n",
       "    <tr>\n",
       "      <th>8</th>\n",
       "      <td>2.0</td>\n",
       "      <td>55.0</td>\n",
       "      <td>99600.000000</td>\n",
       "      <td>0</td>\n",
       "      <td>1.000000</td>\n",
       "      <td>1.728319</td>\n",
       "    </tr>\n",
       "    <tr>\n",
       "      <th>9</th>\n",
       "      <td>1.0</td>\n",
       "      <td>42.0</td>\n",
       "      <td>80400.000000</td>\n",
       "      <td>1</td>\n",
       "      <td>0.434783</td>\n",
       "      <td>0.272647</td>\n",
       "    </tr>\n",
       "  </tbody>\n",
       "</table>\n",
       "</div>"
      ],
      "text/plain": [
       "   Region   Age        Income  Online Shopper  Age_scaled  Income_scaled\n",
       "0     1.0  49.0  86400.000000               0    0.739130       0.727545\n",
       "1     0.0  32.0  57600.000000               1    0.000000      -1.455962\n",
       "2     2.0  35.0  64800.000000               0    0.130435      -0.910086\n",
       "3     0.0  43.0  73200.000000               0    0.478261      -0.273229\n",
       "4     2.0  45.0  79238.393977               1    0.565217       0.184579\n",
       "5     1.0  40.0  69600.000000               1    0.347826      -0.546168\n",
       "6     0.0  44.0  62400.000000               0    0.521739      -1.092045\n",
       "7     1.0  53.0  94800.000000               1    0.913043       1.364401\n",
       "8     2.0  55.0  99600.000000               0    1.000000       1.728319\n",
       "9     1.0  42.0  80400.000000               1    0.434783       0.272647"
      ]
     },
     "execution_count": 29,
     "metadata": {},
     "output_type": "execute_result"
    }
   ],
   "source": [
    "from sklearn.preprocessing import StandardScaler\n",
    "df['Income_scaled'] = StandardScaler().fit_transform(np.array(df.Income).reshape(-1,1))\n",
    "df"
   ]
  }
 ],
 "metadata": {
  "kernelspec": {
   "display_name": "Python 3.8.8 ('base')",
   "language": "python",
   "name": "python3"
  },
  "language_info": {
   "codemirror_mode": {
    "name": "ipython",
    "version": 3
   },
   "file_extension": ".py",
   "mimetype": "text/x-python",
   "name": "python",
   "nbconvert_exporter": "python",
   "pygments_lexer": "ipython3",
   "version": "3.8.8"
  },
  "orig_nbformat": 4,
  "vscode": {
   "interpreter": {
    "hash": "452b90bea1dc56bb7abd92e2828b74e7b1bfd708fd58372070ca854e487506c8"
   }
  }
 },
 "nbformat": 4,
 "nbformat_minor": 2
}
